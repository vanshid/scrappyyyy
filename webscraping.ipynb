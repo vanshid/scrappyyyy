{
  "nbformat": 4,
  "nbformat_minor": 0,
  "metadata": {
    "colab": {
      "name": "webscraping.ipynb",
      "provenance": [],
      "collapsed_sections": []
    },
    "kernelspec": {
      "name": "python3",
      "display_name": "Python 3"
    },
    "language_info": {
      "name": "python"
    }
  },
  "cells": [
    {
      "cell_type": "code",
      "metadata": {
        "colab": {
          "base_uri": "https://localhost:8080/"
        },
        "id": "whCibkVeqnG8",
        "outputId": "40f47394-9ed8-406d-a1ab-b8b0b9db90cd"
      },
      "source": [
        "import requests\n",
        "from bs4 import BeautifulSoup\n",
        "\n",
        "res = requests.get(\"https://news.ycombinator.com\")\n",
        "res2 = requests.get('https://news.ycombinator.com/news?p=2')\n",
        "soup = BeautifulSoup(res.text, 'html.parser')\n",
        "print(res.status_code)"
      ],
      "execution_count": 64,
      "outputs": [
        {
          "output_type": "stream",
          "text": [
            "200\n"
          ],
          "name": "stdout"
        }
      ]
    },
    {
      "cell_type": "code",
      "metadata": {
        "id": "oQYBnhSDsF-m"
      },
      "source": [
        "BeautifulSoup(res.text,'html.parser')\n",
        "soup = BeautifulSoup(res.text, 'html.parser')\n",
        "soup2 = BeautifulSoup(res2.text, 'html.parser')\n",
        "\n",
        "links = soup.select('.storylink')\n",
        "subtext = soup.select('.subtext')\n",
        "links2 = soup2.select('.storylink')\n",
        "subtext2 = soup2.select('.subtext')\n",
        "\n",
        "mega_links = links + links2\n",
        "mega_subtext = subtext + subtext2"
      ],
      "execution_count": 65,
      "outputs": []
    },
    {
      "cell_type": "code",
      "metadata": {
        "colab": {
          "base_uri": "https://localhost:8080/"
        },
        "id": "wfrz5hrBsHsF",
        "outputId": "0012d72d-02c7-498e-9ea0-a842dc8fccc0"
      },
      "source": [
        " soup = BeautifulSoup(res.text,'html.parser')\n",
        " print(soup.body.contents)"
      ],
      "execution_count": 66,
      "outputs": [
        {
          "output_type": "stream",
          "text": [
            "[<center><table bgcolor=\"#f6f6ef\" border=\"0\" cellpadding=\"0\" cellspacing=\"0\" id=\"hnmain\" width=\"85%\">\n",
            "<tr><td bgcolor=\"#ff6600\"><table border=\"0\" cellpadding=\"0\" cellspacing=\"0\" style=\"padding:2px\" width=\"100%\"><tr><td style=\"width:18px;padding-right:4px\"><a href=\"https://news.ycombinator.com\"><img height=\"18\" src=\"y18.gif\" style=\"border:1px white solid;\" width=\"18\"/></a></td>\n",
            "<td style=\"line-height:12pt; height:10px;\"><span class=\"pagetop\"><b class=\"hnname\"><a href=\"news\">Hacker News</a></b>\n",
            "<a href=\"newest\">new</a> | <a href=\"front\">past</a> | <a href=\"newcomments\">comments</a> | <a href=\"ask\">ask</a> | <a href=\"show\">show</a> | <a href=\"jobs\">jobs</a> | <a href=\"submit\">submit</a> </span></td><td style=\"text-align:right;padding-right:4px;\"><span class=\"pagetop\">\n",
            "<a href=\"login?goto=news\">login</a>\n",
            "</span></td>\n",
            "</tr></table></td></tr>\n",
            "<tr id=\"pagespace\" style=\"height:10px\" title=\"\"></tr><tr><td><table border=\"0\" cellpadding=\"0\" cellspacing=\"0\" class=\"itemlist\">\n",
            "<tr class=\"athing\" id=\"27969624\">\n",
            "<td align=\"right\" class=\"title\" valign=\"top\"><span class=\"rank\">1.</span></td> <td class=\"votelinks\" valign=\"top\"><center><a href=\"vote?id=27969624&amp;how=up&amp;goto=news\" id=\"up_27969624\"><div class=\"votearrow\" title=\"upvote\"></div></a></center></td><td class=\"title\"><a class=\"storylink\" href=\"https://matrix.org/blog/2021/07/27/element-raises-30-m-to-boost-matrix\">Element raises $30M to boost Matrix</a><span class=\"sitebit comhead\"> (<a href=\"from?site=matrix.org\"><span class=\"sitestr\">matrix.org</span></a>)</span></td></tr><tr><td colspan=\"2\"></td><td class=\"subtext\">\n",
            "<span class=\"score\" id=\"score_27969624\">32 points</span> by <a class=\"hnuser\" href=\"user?id=Sami_Lehtinen\">Sami_Lehtinen</a> <span class=\"age\" title=\"2021-07-27T07:29:13\"><a href=\"item?id=27969624\">17 minutes ago</a></span> <span id=\"unv_27969624\"></span> | <a href=\"hide?id=27969624&amp;goto=news\">hide</a> | <a href=\"item?id=27969624\">3 comments</a> </td></tr>\n",
            "<tr class=\"spacer\" style=\"height:5px\"></tr>\n",
            "<tr class=\"athing\" id=\"27966782\">\n",
            "<td align=\"right\" class=\"title\" valign=\"top\"><span class=\"rank\">2.</span></td> <td class=\"votelinks\" valign=\"top\"><center><a href=\"vote?id=27966782&amp;how=up&amp;goto=news\" id=\"up_27966782\"><div class=\"votearrow\" title=\"upvote\"></div></a></center></td><td class=\"title\"><a class=\"storylink\" href=\"https://news.yale.edu/2021/07/22/eyes-wide-shut-how-newborn-mammals-dream-world-theyre-entering\">Mammals dream about the world they are about to experience before they are born</a><span class=\"sitebit comhead\"> (<a href=\"from?site=yale.edu\"><span class=\"sitestr\">yale.edu</span></a>)</span></td></tr><tr><td colspan=\"2\"></td><td class=\"subtext\">\n",
            "<span class=\"score\" id=\"score_27966782\">377 points</span> by <a class=\"hnuser\" href=\"user?id=birriel\">birriel</a> <span class=\"age\" title=\"2021-07-26T23:28:05\"><a href=\"item?id=27966782\">8 hours ago</a></span> <span id=\"unv_27966782\"></span> | <a href=\"hide?id=27966782&amp;goto=news\">hide</a> | <a href=\"item?id=27966782\">99 comments</a> </td></tr>\n",
            "<tr class=\"spacer\" style=\"height:5px\"></tr>\n",
            "<tr class=\"athing\" id=\"27969281\">\n",
            "<td align=\"right\" class=\"title\" valign=\"top\"><span class=\"rank\">3.</span></td> <td class=\"votelinks\" valign=\"top\"><center><a href=\"vote?id=27969281&amp;how=up&amp;goto=news\" id=\"up_27969281\"><div class=\"votearrow\" title=\"upvote\"></div></a></center></td><td class=\"title\"><a class=\"storylink\" href=\"https://archive.ph/GsNcf\">U.S. Population Growth, an Economic Driver, Grinds to a Halt</a><span class=\"sitebit comhead\"> (<a href=\"from?site=archive.ph\"><span class=\"sitestr\">archive.ph</span></a>)</span></td></tr><tr><td colspan=\"2\"></td><td class=\"subtext\">\n",
            "<span class=\"score\" id=\"score_27969281\">21 points</span> by <a class=\"hnuser\" href=\"user?id=NiceWayToDoIT\">NiceWayToDoIT</a> <span class=\"age\" title=\"2021-07-27T06:27:51\"><a href=\"item?id=27969281\">1 hour ago</a></span> <span id=\"unv_27969281\"></span> | <a href=\"hide?id=27969281&amp;goto=news\">hide</a> | <a href=\"item?id=27969281\">8 comments</a> </td></tr>\n",
            "<tr class=\"spacer\" style=\"height:5px\"></tr>\n",
            "<tr class=\"athing\" id=\"27965746\">\n",
            "<td align=\"right\" class=\"title\" valign=\"top\"><span class=\"rank\">4.</span></td> <td class=\"votelinks\" valign=\"top\"><center><a href=\"vote?id=27965746&amp;how=up&amp;goto=news\" id=\"up_27965746\"><div class=\"votearrow\" title=\"upvote\"></div></a></center></td><td class=\"title\"><a class=\"storylink\" href=\"https://edwardsnowden.substack.com/p/ns-oh-god-how-is-this-legal\">The Insecurity Industry</a><span class=\"sitebit comhead\"> (<a href=\"from?site=edwardsnowden.substack.com\"><span class=\"sitestr\">edwardsnowden.substack.com</span></a>)</span></td></tr><tr><td colspan=\"2\"></td><td class=\"subtext\">\n",
            "<span class=\"score\" id=\"score_27965746\">426 points</span> by <a class=\"hnuser\" href=\"user?id=stanislavb\">stanislavb</a> <span class=\"age\" title=\"2021-07-26T21:29:33\"><a href=\"item?id=27965746\">10 hours ago</a></span> <span id=\"unv_27965746\"></span> | <a href=\"hide?id=27965746&amp;goto=news\">hide</a> | <a href=\"item?id=27965746\">164 comments</a> </td></tr>\n",
            "<tr class=\"spacer\" style=\"height:5px\"></tr>\n",
            "<tr class=\"athing\" id=\"27968292\">\n",
            "<td align=\"right\" class=\"title\" valign=\"top\"><span class=\"rank\">5.</span></td> <td class=\"votelinks\" valign=\"top\"><center><a href=\"vote?id=27968292&amp;how=up&amp;goto=news\" id=\"up_27968292\"><div class=\"votearrow\" title=\"upvote\"></div></a></center></td><td class=\"title\"><a class=\"storylink\" href=\"https://nicole.express/2021/remember-alf.html\">Collision Detection Is Hard: The Story of Alf</a><span class=\"sitebit comhead\"> (<a href=\"from?site=nicole.express\"><span class=\"sitestr\">nicole.express</span></a>)</span></td></tr><tr><td colspan=\"2\"></td><td class=\"subtext\">\n",
            "<span class=\"score\" id=\"score_27968292\">58 points</span> by <a class=\"hnuser\" href=\"user?id=zdw\">zdw</a> <span class=\"age\" title=\"2021-07-27T03:26:13\"><a href=\"item?id=27968292\">4 hours ago</a></span> <span id=\"unv_27968292\"></span> | <a href=\"hide?id=27968292&amp;goto=news\">hide</a> | <a href=\"item?id=27968292\">discuss</a> </td></tr>\n",
            "<tr class=\"spacer\" style=\"height:5px\"></tr>\n",
            "<tr class=\"athing\" id=\"27965783\">\n",
            "<td align=\"right\" class=\"title\" valign=\"top\"><span class=\"rank\">6.</span></td> <td class=\"votelinks\" valign=\"top\"><center><a href=\"vote?id=27965783&amp;how=up&amp;goto=news\" id=\"up_27965783\"><div class=\"votearrow\" title=\"upvote\"></div></a></center></td><td class=\"title\"><a class=\"storylink\" href=\"https://www.reuters.com/technology/intel-build-qualcomm-chips-aims-catch-foundry-rivals-by-2025-2021-07-26/\">Intel to build Qualcomm chips, aims to catch foundry rivals by 2025</a><span class=\"sitebit comhead\"> (<a href=\"from?site=reuters.com\"><span class=\"sitestr\">reuters.com</span></a>)</span></td></tr><tr><td colspan=\"2\"></td><td class=\"subtext\">\n",
            "<span class=\"score\" id=\"score_27965783\">215 points</span> by <a class=\"hnuser\" href=\"user?id=mepian\">mepian</a> <span class=\"age\" title=\"2021-07-26T21:33:20\"><a href=\"item?id=27965783\">10 hours ago</a></span> <span id=\"unv_27965783\"></span> | <a href=\"hide?id=27965783&amp;goto=news\">hide</a> | <a href=\"item?id=27965783\">105 comments</a> </td></tr>\n",
            "<tr class=\"spacer\" style=\"height:5px\"></tr>\n",
            "<tr class=\"athing\" id=\"27958175\">\n",
            "<td align=\"right\" class=\"title\" valign=\"top\"><span class=\"rank\">7.</span></td> <td class=\"votelinks\" valign=\"top\"><center><a href=\"vote?id=27958175&amp;how=up&amp;goto=news\" id=\"up_27958175\"><div class=\"votearrow\" title=\"upvote\"></div></a></center></td><td class=\"title\"><a class=\"storylink\" href=\"https://blog.timescale.com/blog/what-time-weighted-averages-are-and-why-you-should-care/?\">What time-weighted averages are and why you should care</a><span class=\"sitebit comhead\"> (<a href=\"from?site=timescale.com\"><span class=\"sitestr\">timescale.com</span></a>)</span></td></tr><tr><td colspan=\"2\"></td><td class=\"subtext\">\n",
            "<span class=\"score\" id=\"score_27958175\">27 points</span> by <a class=\"hnuser\" href=\"user?id=ibrar74\">ibrar74</a> <span class=\"age\" title=\"2021-07-26T11:34:04\"><a href=\"item?id=27958175\">2 hours ago</a></span> <span id=\"unv_27958175\"></span> | <a href=\"hide?id=27958175&amp;goto=news\">hide</a> | <a href=\"item?id=27958175\">2 comments</a> </td></tr>\n",
            "<tr class=\"spacer\" style=\"height:5px\"></tr>\n",
            "<tr class=\"athing\" id=\"27969440\">\n",
            "<td align=\"right\" class=\"title\" valign=\"top\"><span class=\"rank\">8.</span></td> <td></td><td class=\"title\"><a class=\"storylink\" href=\"https://bitmovin.com/careers/5341080002?gh_jid=5341080002\" rel=\"nofollow\">Bitmovin (YC S15) Is Hiring a Chief of Staff</a><span class=\"sitebit comhead\"> (<a href=\"from?site=bitmovin.com\"><span class=\"sitestr\">bitmovin.com</span></a>)</span></td></tr><tr><td colspan=\"2\"></td><td class=\"subtext\">\n",
            "<span class=\"age\" title=\"2021-07-27T07:00:23\"><a href=\"item?id=27969440\">46 minutes ago</a></span> | <a href=\"hide?id=27969440&amp;goto=news\">hide</a> </td></tr>\n",
            "<tr class=\"spacer\" style=\"height:5px\"></tr>\n",
            "<tr class=\"athing\" id=\"27962761\">\n",
            "<td align=\"right\" class=\"title\" valign=\"top\"><span class=\"rank\">9.</span></td> <td class=\"votelinks\" valign=\"top\"><center><a href=\"vote?id=27962761&amp;how=up&amp;goto=news\" id=\"up_27962761\"><div class=\"votearrow\" title=\"upvote\"></div></a></center></td><td class=\"title\"><a class=\"storylink\" href=\"https://support.apple.com/en-us/HT212623\">About the security content of iOS 14.7.1 and iPadOS 14.7.1</a><span class=\"sitebit comhead\"> (<a href=\"from?site=support.apple.com\"><span class=\"sitestr\">support.apple.com</span></a>)</span></td></tr><tr><td colspan=\"2\"></td><td class=\"subtext\">\n",
            "<span class=\"score\" id=\"score_27962761\">459 points</span> by <a class=\"hnuser\" href=\"user?id=jiripospisil\">jiripospisil</a> <span class=\"age\" title=\"2021-07-26T17:59:10\"><a href=\"item?id=27962761\">13 hours ago</a></span> <span id=\"unv_27962761\"></span> | <a href=\"hide?id=27962761&amp;goto=news\">hide</a> | <a href=\"item?id=27962761\">286 comments</a> </td></tr>\n",
            "<tr class=\"spacer\" style=\"height:5px\"></tr>\n",
            "<tr class=\"athing\" id=\"27956548\">\n",
            "<td align=\"right\" class=\"title\" valign=\"top\"><span class=\"rank\">10.</span></td> <td class=\"votelinks\" valign=\"top\"><center><a href=\"vote?id=27956548&amp;how=up&amp;goto=news\" id=\"up_27956548\"><div class=\"votearrow\" title=\"upvote\"></div></a></center></td><td class=\"title\"><a class=\"storylink\" href=\"https://www.discovermagazine.com/the-sciences/the-first-atomic-bomb-created-this-forbidden-quasicrystal\">The First Atomic Bomb Created This ‘Forbidden’ Quasicrystal</a><span class=\"sitebit comhead\"> (<a href=\"from?site=discovermagazine.com\"><span class=\"sitestr\">discovermagazine.com</span></a>)</span></td></tr><tr><td colspan=\"2\"></td><td class=\"subtext\">\n",
            "<span class=\"score\" id=\"score_27956548\">28 points</span> by <a class=\"hnuser\" href=\"user?id=danboarder\">danboarder</a> <span class=\"age\" title=\"2021-07-26T07:08:03\"><a href=\"item?id=27956548\">3 hours ago</a></span> <span id=\"unv_27956548\"></span> | <a href=\"hide?id=27956548&amp;goto=news\">hide</a> | <a href=\"item?id=27956548\">8 comments</a> </td></tr>\n",
            "<tr class=\"spacer\" style=\"height:5px\"></tr>\n",
            "<tr class=\"athing\" id=\"27956516\">\n",
            "<td align=\"right\" class=\"title\" valign=\"top\"><span class=\"rank\">11.</span></td> <td class=\"votelinks\" valign=\"top\"><center><a href=\"vote?id=27956516&amp;how=up&amp;goto=news\" id=\"up_27956516\"><div class=\"votearrow\" title=\"upvote\"></div></a></center></td><td class=\"title\"><a class=\"storylink\" href=\"https://marektoth.com/blog/password-managers-autofill/\">Autofill in password managers can allow login credentials to be stolen</a><span class=\"sitebit comhead\"> (<a href=\"from?site=marektoth.com\"><span class=\"sitestr\">marektoth.com</span></a>)</span></td></tr><tr><td colspan=\"2\"></td><td class=\"subtext\">\n",
            "<span class=\"score\" id=\"score_27956516\">126 points</span> by <a class=\"hnuser\" href=\"user?id=shacrw\">shacrw</a> <span class=\"age\" title=\"2021-07-26T07:04:19\"><a href=\"item?id=27956516\">8 hours ago</a></span> <span id=\"unv_27956516\"></span> | <a href=\"hide?id=27956516&amp;goto=news\">hide</a> | <a href=\"item?id=27956516\">87 comments</a> </td></tr>\n",
            "<tr class=\"spacer\" style=\"height:5px\"></tr>\n",
            "<tr class=\"athing\" id=\"27965416\">\n",
            "<td align=\"right\" class=\"title\" valign=\"top\"><span class=\"rank\">12.</span></td> <td class=\"votelinks\" valign=\"top\"><center><a href=\"vote?id=27965416&amp;how=up&amp;goto=news\" id=\"up_27965416\"><div class=\"votearrow\" title=\"upvote\"></div></a></center></td><td class=\"title\"><a class=\"storylink\" href=\"https://mobian-project.org/\">Debian for Mobile</a><span class=\"sitebit comhead\"> (<a href=\"from?site=mobian-project.org\"><span class=\"sitestr\">mobian-project.org</span></a>)</span></td></tr><tr><td colspan=\"2\"></td><td class=\"subtext\">\n",
            "<span class=\"score\" id=\"score_27965416\">167 points</span> by <a class=\"hnuser\" href=\"user?id=wwarner\">wwarner</a> <span class=\"age\" title=\"2021-07-26T21:01:27\"><a href=\"item?id=27965416\">10 hours ago</a></span> <span id=\"unv_27965416\"></span> | <a href=\"hide?id=27965416&amp;goto=news\">hide</a> | <a href=\"item?id=27965416\">71 comments</a> </td></tr>\n",
            "<tr class=\"spacer\" style=\"height:5px\"></tr>\n",
            "<tr class=\"athing\" id=\"27968203\">\n",
            "<td align=\"right\" class=\"title\" valign=\"top\"><span class=\"rank\">13.</span></td> <td class=\"votelinks\" valign=\"top\"><center><a href=\"vote?id=27968203&amp;how=up&amp;goto=news\" id=\"up_27968203\"><div class=\"votearrow\" title=\"upvote\"></div></a></center></td><td class=\"title\"><a class=\"storylink\" href=\"https://dankennedy.net/2020/12/09/blogging-is-dead-long-live-blogging-or-why-the-substack-hype-is-much-ado-about-very-little/\">Why the Substack hype is much ado about very little</a><span class=\"sitebit comhead\"> (<a href=\"from?site=dankennedy.net\"><span class=\"sitestr\">dankennedy.net</span></a>)</span></td></tr><tr><td colspan=\"2\"></td><td class=\"subtext\">\n",
            "<span class=\"score\" id=\"score_27968203\">47 points</span> by <a class=\"hnuser\" href=\"user?id=indigodaddy\">indigodaddy</a> <span class=\"age\" title=\"2021-07-27T03:08:30\"><a href=\"item?id=27968203\">4 hours ago</a></span> <span id=\"unv_27968203\"></span> | <a href=\"hide?id=27968203&amp;goto=news\">hide</a> | <a href=\"item?id=27968203\">16 comments</a> </td></tr>\n",
            "<tr class=\"spacer\" style=\"height:5px\"></tr>\n",
            "<tr class=\"athing\" id=\"27968394\">\n",
            "<td align=\"right\" class=\"title\" valign=\"top\"><span class=\"rank\">14.</span></td> <td class=\"votelinks\" valign=\"top\"><center><a href=\"vote?id=27968394&amp;how=up&amp;goto=news\" id=\"up_27968394\"><div class=\"votearrow\" title=\"upvote\"></div></a></center></td><td class=\"title\"><a class=\"storylink\" href=\"https://blog.perrysun.com/2021/07/15/for-developers-safari-is-crap-and-outdated/\">For developers, Apple’s Safari is crap and outdated</a><span class=\"sitebit comhead\"> (<a href=\"from?site=perrysun.com\"><span class=\"sitestr\">perrysun.com</span></a>)</span></td></tr><tr><td colspan=\"2\"></td><td class=\"subtext\">\n",
            "<span class=\"score\" id=\"score_27968394\">200 points</span> by <a class=\"hnuser\" href=\"user?id=feross\">feross</a> <span class=\"age\" title=\"2021-07-27T03:46:09\"><a href=\"item?id=27968394\">4 hours ago</a></span> <span id=\"unv_27968394\"></span> | <a href=\"hide?id=27968394&amp;goto=news\">hide</a> | <a href=\"item?id=27968394\">214 comments</a> </td></tr>\n",
            "<tr class=\"spacer\" style=\"height:5px\"></tr>\n",
            "<tr class=\"athing\" id=\"27958035\">\n",
            "<td align=\"right\" class=\"title\" valign=\"top\"><span class=\"rank\">15.</span></td> <td class=\"votelinks\" valign=\"top\"><center><a href=\"vote?id=27958035&amp;how=up&amp;goto=news\" id=\"up_27958035\"><div class=\"votearrow\" title=\"upvote\"></div></a></center></td><td class=\"title\"><a class=\"storylink\" href=\"https://github.com/fctorial/hn_sort_comments\" rel=\"nofollow\">Show HN: Browse HN Comments by Timestamp</a><span class=\"sitebit comhead\"> (<a href=\"from?site=github.com/fctorial\"><span class=\"sitestr\">github.com/fctorial</span></a>)</span></td></tr><tr><td colspan=\"2\"></td><td class=\"subtext\">\n",
            "<span class=\"score\" id=\"score_27958035\">5 points</span> by <a class=\"hnuser\" href=\"user?id=fctorial\">fctorial</a> <span class=\"age\" title=\"2021-07-26T11:11:56\"><a href=\"item?id=27958035\">1 hour ago</a></span> <span id=\"unv_27958035\"></span> | <a href=\"hide?id=27958035&amp;goto=news\">hide</a> | <a href=\"item?id=27958035\">discuss</a> </td></tr>\n",
            "<tr class=\"spacer\" style=\"height:5px\"></tr>\n",
            "<tr class=\"athing\" id=\"27959475\">\n",
            "<td align=\"right\" class=\"title\" valign=\"top\"><span class=\"rank\">16.</span></td> <td class=\"votelinks\" valign=\"top\"><center><a href=\"vote?id=27959475&amp;how=up&amp;goto=news\" id=\"up_27959475\"><div class=\"votearrow\" title=\"upvote\"></div></a></center></td><td class=\"title\"><a class=\"storylink\" href=\"item?id=27959475\">Ask HN: How did you establish and maintain relationships with your first users?</a></td></tr><tr><td colspan=\"2\"></td><td class=\"subtext\">\n",
            "<span class=\"score\" id=\"score_27959475\">55 points</span> by <a class=\"hnuser\" href=\"user?id=dwrodri\">dwrodri</a> <span class=\"age\" title=\"2021-07-26T14:04:27\"><a href=\"item?id=27959475\">5 hours ago</a></span> <span id=\"unv_27959475\"></span> | <a href=\"hide?id=27959475&amp;goto=news\">hide</a> | <a href=\"item?id=27959475\">19 comments</a> </td></tr>\n",
            "<tr class=\"spacer\" style=\"height:5px\"></tr>\n",
            "<tr class=\"athing\" id=\"27965441\">\n",
            "<td align=\"right\" class=\"title\" valign=\"top\"><span class=\"rank\">17.</span></td> <td class=\"votelinks\" valign=\"top\"><center><a href=\"vote?id=27965441&amp;how=up&amp;goto=news\" id=\"up_27965441\"><div class=\"votearrow\" title=\"upvote\"></div></a></center></td><td class=\"title\"><a class=\"storylink\" href=\"https://yurideigin.medium.com/jaccuse-why-122-year-longevity-record-may-be-fake-af87fc0c3133\">Jeanne Calment’s 122-year old longevity record may be fake (2018)</a><span class=\"sitebit comhead\"> (<a href=\"from?site=yurideigin.medium.com\"><span class=\"sitestr\">yurideigin.medium.com</span></a>)</span></td></tr><tr><td colspan=\"2\"></td><td class=\"subtext\">\n",
            "<span class=\"score\" id=\"score_27965441\">109 points</span> by <a class=\"hnuser\" href=\"user?id=briefcomment\">briefcomment</a> <span class=\"age\" title=\"2021-07-26T21:03:47\"><a href=\"item?id=27965441\">10 hours ago</a></span> <span id=\"unv_27965441\"></span> | <a href=\"hide?id=27965441&amp;goto=news\">hide</a> | <a href=\"item?id=27965441\">102 comments</a> </td></tr>\n",
            "<tr class=\"spacer\" style=\"height:5px\"></tr>\n",
            "<tr class=\"athing\" id=\"27965979\">\n",
            "<td align=\"right\" class=\"title\" valign=\"top\"><span class=\"rank\">18.</span></td> <td class=\"votelinks\" valign=\"top\"><center><a href=\"vote?id=27965979&amp;how=up&amp;goto=news\" id=\"up_27965979\"><div class=\"votearrow\" title=\"upvote\"></div></a></center></td><td class=\"title\"><a class=\"storylink\" href=\"https://apse.io/\">APSE – A Personal Search Engine</a><span class=\"sitebit comhead\"> (<a href=\"from?site=apse.io\"><span class=\"sitestr\">apse.io</span></a>)</span></td></tr><tr><td colspan=\"2\"></td><td class=\"subtext\">\n",
            "<span class=\"score\" id=\"score_27965979\">94 points</span> by <a class=\"hnuser\" href=\"user?id=thunderbong\">thunderbong</a> <span class=\"age\" title=\"2021-07-26T21:55:23\"><a href=\"item?id=27965979\">9 hours ago</a></span> <span id=\"unv_27965979\"></span> | <a href=\"hide?id=27965979&amp;goto=news\">hide</a> | <a href=\"item?id=27965979\">43 comments</a> </td></tr>\n",
            "<tr class=\"spacer\" style=\"height:5px\"></tr>\n",
            "<tr class=\"athing\" id=\"27967686\">\n",
            "<td align=\"right\" class=\"title\" valign=\"top\"><span class=\"rank\">19.</span></td> <td class=\"votelinks\" valign=\"top\"><center><a href=\"vote?id=27967686&amp;how=up&amp;goto=news\" id=\"up_27967686\"><div class=\"votearrow\" title=\"upvote\"></div></a></center></td><td class=\"title\"><a class=\"storylink\" href=\"https://www.palmbeachpost.com/story/news/2021/07/26/surfside-condo-collapse-how-israeli-team-found-majority-victims/8021350002/\">Israeli military search team helped recover majority of Surfside victims</a><span class=\"sitebit comhead\"> (<a href=\"from?site=palmbeachpost.com\"><span class=\"sitestr\">palmbeachpost.com</span></a>)</span></td></tr><tr><td colspan=\"2\"></td><td class=\"subtext\">\n",
            "<span class=\"score\" id=\"score_27967686\">210 points</span> by <a class=\"hnuser\" href=\"user?id=737min\">737min</a> <span class=\"age\" title=\"2021-07-27T01:47:30\"><a href=\"item?id=27967686\">5 hours ago</a></span> <span id=\"unv_27967686\"></span> | <a href=\"hide?id=27967686&amp;goto=news\">hide</a> | <a href=\"item?id=27967686\">53 comments</a> </td></tr>\n",
            "<tr class=\"spacer\" style=\"height:5px\"></tr>\n",
            "<tr class=\"athing\" id=\"27957380\">\n",
            "<td align=\"right\" class=\"title\" valign=\"top\"><span class=\"rank\">20.</span></td> <td class=\"votelinks\" valign=\"top\"><center><a href=\"vote?id=27957380&amp;how=up&amp;goto=news\" id=\"up_27957380\"><div class=\"votearrow\" title=\"upvote\"></div></a></center></td><td class=\"title\"><a class=\"storylink\" href=\"http://www.socionextus.com/pressreleases/socionext-and-partners-clarify-differences-between-semiconductor-soft-errors-caused-by-cosmic-ray-muons-and-neutrons/\">Differences in Semiconductor Soft Errors Caused by Cosmic-Ray Muons and Neutrons</a><span class=\"sitebit comhead\"> (<a href=\"from?site=socionextus.com\"><span class=\"sitestr\">socionextus.com</span></a>)</span></td></tr><tr><td colspan=\"2\"></td><td class=\"subtext\">\n",
            "<span class=\"score\" id=\"score_27957380\">33 points</span> by <a class=\"hnuser\" href=\"user?id=mkj\">mkj</a> <span class=\"age\" title=\"2021-07-26T09:25:11\"><a href=\"item?id=27957380\">4 hours ago</a></span> <span id=\"unv_27957380\"></span> | <a href=\"hide?id=27957380&amp;goto=news\">hide</a> | <a href=\"item?id=27957380\">13 comments</a> </td></tr>\n",
            "<tr class=\"spacer\" style=\"height:5px\"></tr>\n",
            "<tr class=\"athing\" id=\"27966939\">\n",
            "<td align=\"right\" class=\"title\" valign=\"top\"><span class=\"rank\">21.</span></td> <td class=\"votelinks\" valign=\"top\"><center><a href=\"vote?id=27966939&amp;how=up&amp;goto=news\" id=\"up_27966939\"><div class=\"votearrow\" title=\"upvote\"></div></a></center></td><td class=\"title\"><a class=\"storylink\" href=\"https://github.com/index-machines/index\">Index machine: an open source pick and place machine</a><span class=\"sitebit comhead\"> (<a href=\"from?site=github.com/index-machines\"><span class=\"sitestr\">github.com/index-machines</span></a>)</span></td></tr><tr><td colspan=\"2\"></td><td class=\"subtext\">\n",
            "<span class=\"score\" id=\"score_27966939\">46 points</span> by <a class=\"hnuser\" href=\"user?id=gizdan\">gizdan</a> <span class=\"age\" title=\"2021-07-26T23:46:57\"><a href=\"item?id=27966939\">7 hours ago</a></span> <span id=\"unv_27966939\"></span> | <a href=\"hide?id=27966939&amp;goto=news\">hide</a> | <a href=\"item?id=27966939\">16 comments</a> </td></tr>\n",
            "<tr class=\"spacer\" style=\"height:5px\"></tr>\n",
            "<tr class=\"athing\" id=\"27965542\">\n",
            "<td align=\"right\" class=\"title\" valign=\"top\"><span class=\"rank\">22.</span></td> <td class=\"votelinks\" valign=\"top\"><center><a href=\"vote?id=27965542&amp;how=up&amp;goto=news\" id=\"up_27965542\"><div class=\"votearrow\" title=\"upvote\"></div></a></center></td><td class=\"title\"><a class=\"storylink\" href=\"https://www.anandtech.com/show/16823/intel-accelerated-offensive-process-roadmap-updates-to-10nm-7nm-4nm-3nm-20a-18a-packaging-foundry-emib-foveros\">Intel's Process Roadmap to 2025: with 4nm, 3nm, 20A and 18A?</a><span class=\"sitebit comhead\"> (<a href=\"from?site=anandtech.com\"><span class=\"sitestr\">anandtech.com</span></a>)</span></td></tr><tr><td colspan=\"2\"></td><td class=\"subtext\">\n",
            "<span class=\"score\" id=\"score_27965542\">71 points</span> by <a class=\"hnuser\" href=\"user?id=MikusR\">MikusR</a> <span class=\"age\" title=\"2021-07-26T21:11:33\"><a href=\"item?id=27965542\">10 hours ago</a></span> <span id=\"unv_27965542\"></span> | <a href=\"hide?id=27965542&amp;goto=news\">hide</a> | <a href=\"item?id=27965542\">53 comments</a> </td></tr>\n",
            "<tr class=\"spacer\" style=\"height:5px\"></tr>\n",
            "<tr class=\"athing\" id=\"27958605\">\n",
            "<td align=\"right\" class=\"title\" valign=\"top\"><span class=\"rank\">23.</span></td> <td class=\"votelinks\" valign=\"top\"><center><a href=\"vote?id=27958605&amp;how=up&amp;goto=news\" id=\"up_27958605\"><div class=\"votearrow\" title=\"upvote\"></div></a></center></td><td class=\"title\"><a class=\"storylink\" href=\"item?id=27958605\">Launch HN: InstaKin (YC S21) - Help immigrants to manage tasks in home countries</a></td></tr><tr><td colspan=\"2\"></td><td class=\"subtext\">\n",
            "<span class=\"score\" id=\"score_27958605\">187 points</span> by <a class=\"hnuser\" href=\"user?id=yshirazi\">yshirazi</a> <span class=\"age\" title=\"2021-07-26T12:34:23\"><a href=\"item?id=27958605\">18 hours ago</a></span> <span id=\"unv_27958605\"></span> | <a href=\"hide?id=27958605&amp;goto=news\">hide</a> | <a href=\"item?id=27958605\">61 comments</a> </td></tr>\n",
            "<tr class=\"spacer\" style=\"height:5px\"></tr>\n",
            "<tr class=\"athing\" id=\"27964460\">\n",
            "<td align=\"right\" class=\"title\" valign=\"top\"><span class=\"rank\">24.</span></td> <td class=\"votelinks\" valign=\"top\"><center><a href=\"vote?id=27964460&amp;how=up&amp;goto=news\" id=\"up_27964460\"><div class=\"votearrow\" title=\"upvote\"></div></a></center></td><td class=\"title\"><a class=\"storylink\" href=\"https://lwn.net/SubscriberLink/864184/06caefb9c8f2bbd5/\">Hastening Linux process cleanup with process_mrelease</a><span class=\"sitebit comhead\"> (<a href=\"from?site=lwn.net\"><span class=\"sitestr\">lwn.net</span></a>)</span></td></tr><tr><td colspan=\"2\"></td><td class=\"subtext\">\n",
            "<span class=\"score\" id=\"score_27964460\">73 points</span> by <a class=\"hnuser\" href=\"user?id=chmaynard\">chmaynard</a> <span class=\"age\" title=\"2021-07-26T19:48:22\"><a href=\"item?id=27964460\">11 hours ago</a></span> <span id=\"unv_27964460\"></span> | <a href=\"hide?id=27964460&amp;goto=news\">hide</a> | <a href=\"item?id=27964460\">23 comments</a> </td></tr>\n",
            "<tr class=\"spacer\" style=\"height:5px\"></tr>\n",
            "<tr class=\"athing\" id=\"27963974\">\n",
            "<td align=\"right\" class=\"title\" valign=\"top\"><span class=\"rank\">25.</span></td> <td class=\"votelinks\" valign=\"top\"><center><a href=\"vote?id=27963974&amp;how=up&amp;goto=news\" id=\"up_27963974\"><div class=\"votearrow\" title=\"upvote\"></div></a></center></td><td class=\"title\"><a class=\"storylink\" href=\"https://www.michaelnygard.com/blog/2021/06/counterfactuals-are-not-causality/\">Counterfactuals are not causality</a><span class=\"sitebit comhead\"> (<a href=\"from?site=michaelnygard.com\"><span class=\"sitestr\">michaelnygard.com</span></a>)</span></td></tr><tr><td colspan=\"2\"></td><td class=\"subtext\">\n",
            "<span class=\"score\" id=\"score_27963974\">64 points</span> by <a class=\"hnuser\" href=\"user?id=grzm\">grzm</a> <span class=\"age\" title=\"2021-07-26T19:15:05\"><a href=\"item?id=27963974\">9 hours ago</a></span> <span id=\"unv_27963974\"></span> | <a href=\"hide?id=27963974&amp;goto=news\">hide</a> | <a href=\"item?id=27963974\">33 comments</a> </td></tr>\n",
            "<tr class=\"spacer\" style=\"height:5px\"></tr>\n",
            "<tr class=\"athing\" id=\"27956841\">\n",
            "<td align=\"right\" class=\"title\" valign=\"top\"><span class=\"rank\">26.</span></td> <td class=\"votelinks\" valign=\"top\"><center><a href=\"vote?id=27956841&amp;how=up&amp;goto=news\" id=\"up_27956841\"><div class=\"votearrow\" title=\"upvote\"></div></a></center></td><td class=\"title\"><a class=\"storylink\" href=\"https://www.salon.com/2021/07/25/edgar-allan-poes-engagement-with-american-science_partner/\">Edgar Allan Poe's engagement with American science</a><span class=\"sitebit comhead\"> (<a href=\"from?site=salon.com\"><span class=\"sitestr\">salon.com</span></a>)</span></td></tr><tr><td colspan=\"2\"></td><td class=\"subtext\">\n",
            "<span class=\"score\" id=\"score_27956841\">23 points</span> by <a class=\"hnuser\" href=\"user?id=webmaven\">webmaven</a> <span class=\"age\" title=\"2021-07-26T07:58:56\"><a href=\"item?id=27956841\">6 hours ago</a></span> <span id=\"unv_27956841\"></span> | <a href=\"hide?id=27956841&amp;goto=news\">hide</a> | <a href=\"item?id=27956841\">discuss</a> </td></tr>\n",
            "<tr class=\"spacer\" style=\"height:5px\"></tr>\n",
            "<tr class=\"athing\" id=\"27949787\">\n",
            "<td align=\"right\" class=\"title\" valign=\"top\"><span class=\"rank\">27.</span></td> <td class=\"votelinks\" valign=\"top\"><center><a href=\"vote?id=27949787&amp;how=up&amp;goto=news\" id=\"up_27949787\"><div class=\"votearrow\" title=\"upvote\"></div></a></center></td><td class=\"title\"><a class=\"storylink\" href=\"https://bellmar.medium.com/how-to-be-an-amateur-bot-hunter-8c5ff1dc7bd\">How to Be an Amateur Bot Hunter</a><span class=\"sitebit comhead\"> (<a href=\"from?site=bellmar.medium.com\"><span class=\"sitestr\">bellmar.medium.com</span></a>)</span></td></tr><tr><td colspan=\"2\"></td><td class=\"subtext\">\n",
            "<span class=\"score\" id=\"score_27949787\">81 points</span> by <a class=\"hnuser\" href=\"user?id=mbellotti\">mbellotti</a> <span class=\"age\" title=\"2021-07-25T15:21:48\"><a href=\"item?id=27949787\">12 hours ago</a></span> <span id=\"unv_27949787\"></span> | <a href=\"hide?id=27949787&amp;goto=news\">hide</a> | <a href=\"item?id=27949787\">13 comments</a> </td></tr>\n",
            "<tr class=\"spacer\" style=\"height:5px\"></tr>\n",
            "<tr class=\"athing\" id=\"27965460\">\n",
            "<td align=\"right\" class=\"title\" valign=\"top\"><span class=\"rank\">28.</span></td> <td class=\"votelinks\" valign=\"top\"><center><a href=\"vote?id=27965460&amp;how=up&amp;goto=news\" id=\"up_27965460\"><div class=\"votearrow\" title=\"upvote\"></div></a></center></td><td class=\"title\"><a class=\"storylink\" href=\"https://ramblemaps.com/worlds-most-detailed-maps\">Making The World's Most Detailed Print Maps</a><span class=\"sitebit comhead\"> (<a href=\"from?site=ramblemaps.com\"><span class=\"sitestr\">ramblemaps.com</span></a>)</span></td></tr><tr><td colspan=\"2\"></td><td class=\"subtext\">\n",
            "<span class=\"score\" id=\"score_27965460\">104 points</span> by <a class=\"hnuser\" href=\"user?id=mparr4\">mparr4</a> <span class=\"age\" title=\"2021-07-26T21:05:06\"><a href=\"item?id=27965460\">10 hours ago</a></span> <span id=\"unv_27965460\"></span> | <a href=\"hide?id=27965460&amp;goto=news\">hide</a> | <a href=\"item?id=27965460\">45 comments</a> </td></tr>\n",
            "<tr class=\"spacer\" style=\"height:5px\"></tr>\n",
            "<tr class=\"athing\" id=\"27957171\">\n",
            "<td align=\"right\" class=\"title\" valign=\"top\"><span class=\"rank\">29.</span></td> <td class=\"votelinks\" valign=\"top\"><center><a href=\"vote?id=27957171&amp;how=up&amp;goto=news\" id=\"up_27957171\"><div class=\"votearrow\" title=\"upvote\"></div></a></center></td><td class=\"title\"><a class=\"storylink\" href=\"https://asia.nikkei.com/Business/Tech/Semiconductors/TSMC-eyes-Germany-as-possible-location-for-first-Europe-chip-plant\">TSMC eyes Germany as possible location for first Europe chip plant</a><span class=\"sitebit comhead\"> (<a href=\"from?site=nikkei.com\"><span class=\"sitestr\">nikkei.com</span></a>)</span></td></tr><tr><td colspan=\"2\"></td><td class=\"subtext\">\n",
            "<span class=\"score\" id=\"score_27957171\">654 points</span> by <a class=\"hnuser\" href=\"user?id=stereoradonc\">stereoradonc</a> <span class=\"age\" title=\"2021-07-26T08:49:51\"><a href=\"item?id=27957171\">22 hours ago</a></span> <span id=\"unv_27957171\"></span> | <a href=\"hide?id=27957171&amp;goto=news\">hide</a> | <a href=\"item?id=27957171\">399 comments</a> </td></tr>\n",
            "<tr class=\"spacer\" style=\"height:5px\"></tr>\n",
            "<tr class=\"athing\" id=\"27963753\">\n",
            "<td align=\"right\" class=\"title\" valign=\"top\"><span class=\"rank\">30.</span></td> <td class=\"votelinks\" valign=\"top\"><center><a href=\"vote?id=27963753&amp;how=up&amp;goto=news\" id=\"up_27963753\"><div class=\"votearrow\" title=\"upvote\"></div></a></center></td><td class=\"title\"><a class=\"storylink\" href=\"https://erthalion.info/2020/11/28/evolution-of-btree-index-am\">Evolution of tree data structures for indexing</a><span class=\"sitebit comhead\"> (<a href=\"from?site=erthalion.info\"><span class=\"sitestr\">erthalion.info</span></a>)</span></td></tr><tr><td colspan=\"2\"></td><td class=\"subtext\">\n",
            "<span class=\"score\" id=\"score_27963753\">76 points</span> by <a class=\"hnuser\" href=\"user?id=baotiao\">baotiao</a> <span class=\"age\" title=\"2021-07-26T19:01:29\"><a href=\"item?id=27963753\">12 hours ago</a></span> <span id=\"unv_27963753\"></span> | <a href=\"hide?id=27963753&amp;goto=news\">hide</a> | <a href=\"item?id=27963753\">5 comments</a> </td></tr>\n",
            "<tr class=\"spacer\" style=\"height:5px\"></tr>\n",
            "<tr class=\"morespace\" style=\"height:10px\"></tr><tr><td colspan=\"2\"></td><td class=\"title\"><a class=\"morelink\" href=\"news?p=2\" rel=\"next\">More</a></td></tr>\n",
            "</table>\n",
            "</td></tr>\n",
            "<tr><td><img height=\"10\" src=\"s.gif\" width=\"0\"/><table cellpadding=\"1\" cellspacing=\"0\" width=\"100%\"><tr><td bgcolor=\"#ff6600\"></td></tr></table><br/><center><a href=\"https://www.ycombinator.com/apply/\">\n",
            "        Applications are open for YC Winter 2022\n",
            "      </a></center><br/><center><span class=\"yclinks\"><a href=\"newsguidelines.html\">Guidelines</a>\n",
            "        | <a href=\"newsfaq.html\">FAQ</a>\n",
            "        | <a href=\"lists\">Lists</a>\n",
            "        | <a href=\"https://github.com/HackerNews/API\">API</a>\n",
            "        | <a href=\"security.html\">Security</a>\n",
            "        | <a href=\"http://www.ycombinator.com/legal/\">Legal</a>\n",
            "        | <a href=\"http://www.ycombinator.com/apply/\">Apply to YC</a>\n",
            "        | <a href=\"mailto:hn@ycombinator.com\">Contact</a></span><br/><br/><form action=\"//hn.algolia.com/\" method=\"get\">Search:\n",
            "          <input autocapitalize=\"off\" autocomplete=\"false\" autocorrect=\"off\" name=\"q\" size=\"17\" spellcheck=\"false\" type=\"text\" value=\"\"/></form>\n",
            "</center></td></tr>\n",
            "</table></center>]\n"
          ],
          "name": "stdout"
        }
      ]
    },
    {
      "cell_type": "code",
      "metadata": {
        "colab": {
          "base_uri": "https://localhost:8080/"
        },
        "id": "A42hpF6XsYj4",
        "outputId": "fededc4c-af0d-40c6-8d48-cb34e345fc8e"
      },
      "source": [
        "print(soup.select('div'))"
      ],
      "execution_count": 67,
      "outputs": [
        {
          "output_type": "stream",
          "text": [
            "[<div class=\"votearrow\" title=\"upvote\"></div>, <div class=\"votearrow\" title=\"upvote\"></div>, <div class=\"votearrow\" title=\"upvote\"></div>, <div class=\"votearrow\" title=\"upvote\"></div>, <div class=\"votearrow\" title=\"upvote\"></div>, <div class=\"votearrow\" title=\"upvote\"></div>, <div class=\"votearrow\" title=\"upvote\"></div>, <div class=\"votearrow\" title=\"upvote\"></div>, <div class=\"votearrow\" title=\"upvote\"></div>, <div class=\"votearrow\" title=\"upvote\"></div>, <div class=\"votearrow\" title=\"upvote\"></div>, <div class=\"votearrow\" title=\"upvote\"></div>, <div class=\"votearrow\" title=\"upvote\"></div>, <div class=\"votearrow\" title=\"upvote\"></div>, <div class=\"votearrow\" title=\"upvote\"></div>, <div class=\"votearrow\" title=\"upvote\"></div>, <div class=\"votearrow\" title=\"upvote\"></div>, <div class=\"votearrow\" title=\"upvote\"></div>, <div class=\"votearrow\" title=\"upvote\"></div>, <div class=\"votearrow\" title=\"upvote\"></div>, <div class=\"votearrow\" title=\"upvote\"></div>, <div class=\"votearrow\" title=\"upvote\"></div>, <div class=\"votearrow\" title=\"upvote\"></div>, <div class=\"votearrow\" title=\"upvote\"></div>, <div class=\"votearrow\" title=\"upvote\"></div>, <div class=\"votearrow\" title=\"upvote\"></div>, <div class=\"votearrow\" title=\"upvote\"></div>, <div class=\"votearrow\" title=\"upvote\"></div>, <div class=\"votearrow\" title=\"upvote\"></div>]\n"
          ],
          "name": "stdout"
        }
      ]
    },
    {
      "cell_type": "code",
      "metadata": {
        "colab": {
          "base_uri": "https://localhost:8080/"
        },
        "id": "OvMZVM2BsYwD",
        "outputId": "5b4e33e5-03a5-42fb-c45d-47cc91a48f43"
      },
      "source": [
        "print(soup.select('.score'))"
      ],
      "execution_count": 68,
      "outputs": [
        {
          "output_type": "stream",
          "text": [
            "[<span class=\"score\" id=\"score_27969624\">32 points</span>, <span class=\"score\" id=\"score_27966782\">377 points</span>, <span class=\"score\" id=\"score_27969281\">21 points</span>, <span class=\"score\" id=\"score_27965746\">426 points</span>, <span class=\"score\" id=\"score_27968292\">58 points</span>, <span class=\"score\" id=\"score_27965783\">215 points</span>, <span class=\"score\" id=\"score_27958175\">27 points</span>, <span class=\"score\" id=\"score_27962761\">459 points</span>, <span class=\"score\" id=\"score_27956548\">28 points</span>, <span class=\"score\" id=\"score_27956516\">126 points</span>, <span class=\"score\" id=\"score_27965416\">167 points</span>, <span class=\"score\" id=\"score_27968203\">47 points</span>, <span class=\"score\" id=\"score_27968394\">200 points</span>, <span class=\"score\" id=\"score_27958035\">5 points</span>, <span class=\"score\" id=\"score_27959475\">55 points</span>, <span class=\"score\" id=\"score_27965441\">109 points</span>, <span class=\"score\" id=\"score_27965979\">94 points</span>, <span class=\"score\" id=\"score_27967686\">210 points</span>, <span class=\"score\" id=\"score_27957380\">33 points</span>, <span class=\"score\" id=\"score_27966939\">46 points</span>, <span class=\"score\" id=\"score_27965542\">71 points</span>, <span class=\"score\" id=\"score_27958605\">187 points</span>, <span class=\"score\" id=\"score_27964460\">73 points</span>, <span class=\"score\" id=\"score_27963974\">64 points</span>, <span class=\"score\" id=\"score_27956841\">23 points</span>, <span class=\"score\" id=\"score_27949787\">81 points</span>, <span class=\"score\" id=\"score_27965460\">104 points</span>, <span class=\"score\" id=\"score_27957171\">654 points</span>, <span class=\"score\" id=\"score_27963753\">76 points</span>]\n"
          ],
          "name": "stdout"
        }
      ]
    },
    {
      "cell_type": "code",
      "metadata": {
        "colab": {
          "base_uri": "https://localhost:8080/"
        },
        "id": "PxAVQ6Nn0_qE",
        "outputId": "e59c0420-e82e-4ccf-a13f-9e0427a0d701"
      },
      "source": [
        "print(soup.select('.hnname'))"
      ],
      "execution_count": 69,
      "outputs": [
        {
          "output_type": "stream",
          "text": [
            "[<b class=\"hnname\"><a href=\"news\">Hacker News</a></b>]\n"
          ],
          "name": "stdout"
        }
      ]
    },
    {
      "cell_type": "code",
      "metadata": {
        "id": "7IzIDvxI0_ut"
      },
      "source": [
        "links = soup.select(\".storylink\")"
      ],
      "execution_count": 70,
      "outputs": []
    },
    {
      "cell_type": "code",
      "metadata": {
        "id": "eBsXkg4C0_x-"
      },
      "source": [
        "subtext = soup.select(\".score\")"
      ],
      "execution_count": 71,
      "outputs": []
    },
    {
      "cell_type": "code",
      "metadata": {
        "colab": {
          "base_uri": "https://localhost:8080/"
        },
        "id": "4-wtWD6SsHzo",
        "outputId": "6a60eb42-473b-4120-dc4c-66d380f9edae"
      },
      "source": [
        "print(subtext[0])"
      ],
      "execution_count": 72,
      "outputs": [
        {
          "output_type": "stream",
          "text": [
            "<span class=\"score\" id=\"score_27969624\">32 points</span>\n"
          ],
          "name": "stdout"
        }
      ]
    },
    {
      "cell_type": "code",
      "metadata": {
        "colab": {
          "base_uri": "https://localhost:8080/"
        },
        "id": "LiBGo7PnsH2h",
        "outputId": "849d9eea-dfd1-462b-d9ac-d28d9cb7c545"
      },
      "source": [
        "print(subtext[0].get(\"id\"))"
      ],
      "execution_count": 73,
      "outputs": [
        {
          "output_type": "stream",
          "text": [
            "score_27969624\n"
          ],
          "name": "stdout"
        }
      ]
    },
    {
      "cell_type": "code",
      "metadata": {
        "id": "Nopr8eEr7W_Q"
      },
      "source": [
        "def sort_stories_by_votes(hnlist):\n",
        "  return sorted(hnlist, key= lambda k:k['votes'], reverse=True)"
      ],
      "execution_count": 74,
      "outputs": []
    },
    {
      "cell_type": "code",
      "metadata": {
        "colab": {
          "base_uri": "https://localhost:8080/"
        },
        "id": "TJCRccg-3SXm",
        "outputId": "bf3c8985-9e60-41de-d956-fd029426913d"
      },
      "source": [
        "import pprint\n",
        "def custom(links,subtext):\n",
        "  hn = []\n",
        "  for idx, item in enumerate(links):\n",
        "    title = item.getText()\n",
        "    href = item.get('href', None)\n",
        "    vote = subtext[idx].select('.score')\n",
        "    if len(vote):\n",
        "      points = int(vote[0].getText().replace(' points', ''))\n",
        "      if points > 99:\n",
        "        hn.append({'title': title, 'link': href, 'votes': points})\n",
        "  return sort_stories_by_votes(hn)\n",
        " \n",
        "pprint.pprint(custom(mega_links, mega_subtext))\n"
      ],
      "execution_count": 77,
      "outputs": [
        {
          "output_type": "stream",
          "text": [
            "[{'link': 'https://asia.nikkei.com/Business/Tech/Semiconductors/TSMC-eyes-Germany-as-possible-location-for-first-Europe-chip-plant',\n",
            "  'title': 'TSMC eyes Germany as possible location for first Europe chip plant',\n",
            "  'votes': 654},\n",
            " {'link': 'https://www.theverge.com/2021/7/26/22594235/toyota-lobbying-dc-ev-congress-biden-donation',\n",
            "  'title': 'Toyota is quietly pushing Congress to slow the shift to electric '\n",
            "           'vehicles',\n",
            "  'votes': 549},\n",
            " {'link': 'https://waritschlager.de/sqlinjections-in-google-results.html',\n",
            "  'title': 'Google results for PHP tutorials contain SQL injection '\n",
            "           'vulnerabilities',\n",
            "  'votes': 540},\n",
            " {'link': 'https://www.vice.com/en/article/qj8xbq/police-are-telling-shotspotter-to-alter-evidence-from-gunshot-detecting-ai',\n",
            "  'title': 'Police are telling ShotSpotter to alter evidence from '\n",
            "           'gunshot-detecting AI',\n",
            "  'votes': 477},\n",
            " {'link': 'https://support.apple.com/en-us/HT212623',\n",
            "  'title': 'About the security content of iOS 14.7.1 and iPadOS 14.7.1',\n",
            "  'votes': 459},\n",
            " {'link': 'https://fasterthanli.me/articles/understanding-rust-futures-by-going-way-too-deep',\n",
            "  'title': 'Understanding Rust futures by going way too deep',\n",
            "  'votes': 443},\n",
            " {'link': 'https://edwardsnowden.substack.com/p/ns-oh-god-how-is-this-legal',\n",
            "  'title': 'The Insecurity Industry',\n",
            "  'votes': 426},\n",
            " {'link': 'https://news.yale.edu/2021/07/22/eyes-wide-shut-how-newborn-mammals-dream-world-theyre-entering',\n",
            "  'title': 'Mammals dream about the world they are about to experience before '\n",
            "           'they are born',\n",
            "  'votes': 377},\n",
            " {'link': 'https://twitter.com/benskuhn/status/1419281153983500290',\n",
            "  'title': 'Some stuff I found interesting about number theory research',\n",
            "  'votes': 325},\n",
            " {'link': 'https://github.com/amirgamil/apollo',\n",
            "  'title': 'A Unix-style personal search engine and web crawler for your '\n",
            "           'digital footprint',\n",
            "  'votes': 315},\n",
            " {'link': 'https://iopscience.iop.org/article/10.1088/1748-9326/ac13f1',\n",
            "  'title': \"Reducing CO2 emissions by targeting the world's hyper-polluting \"\n",
            "           'power plants',\n",
            "  'votes': 275},\n",
            " {'link': 'https://nextlevelchess.blog/how-to-become-a-grandmaster-in-chess/',\n",
            "  'title': 'Becoming a Chess Grandmaster',\n",
            "  'votes': 226},\n",
            " {'link': 'https://github.com/jayphelps/git-blame-someone-else',\n",
            "  'title': 'Git-blame-someone-else',\n",
            "  'votes': 217},\n",
            " {'link': 'https://www.reuters.com/technology/intel-build-qualcomm-chips-aims-catch-foundry-rivals-by-2025-2021-07-26/',\n",
            "  'title': 'Intel to build Qualcomm chips, aims to catch foundry rivals by '\n",
            "           '2025',\n",
            "  'votes': 215},\n",
            " {'link': 'https://www.palmbeachpost.com/story/news/2021/07/26/surfside-condo-collapse-how-israeli-team-found-majority-victims/8021350002/',\n",
            "  'title': 'Israeli military search team helped recover majority of Surfside '\n",
            "           'victims',\n",
            "  'votes': 210},\n",
            " {'link': 'https://blog.perrysun.com/2021/07/15/for-developers-safari-is-crap-and-outdated/',\n",
            "  'title': 'For developers, Apple’s Safari is crap and outdated',\n",
            "  'votes': 200},\n",
            " {'link': 'item?id=27958605',\n",
            "  'title': 'Launch HN: InstaKin (YC S21) - Help immigrants to manage tasks in '\n",
            "           'home countries',\n",
            "  'votes': 187},\n",
            " {'link': 'https://asia.nikkei.com/Business/Science/Japan-pitches-Society-5.0-to-keep-its-edge-in-tech-and-science',\n",
            "  'title': \"Japan pitches 'Society 5.0' to keep its edge in tech and science\",\n",
            "  'votes': 184},\n",
            " {'link': 'https://mobian-project.org/',\n",
            "  'title': 'Debian for Mobile',\n",
            "  'votes': 167},\n",
            " {'link': 'https://marektoth.com/blog/password-managers-autofill/',\n",
            "  'title': 'Autofill in password managers can allow login credentials to be '\n",
            "           'stolen',\n",
            "  'votes': 126},\n",
            " {'link': 'https://www.reuters.com/business/retail-consumer/amazon-denies-report-accepting-bitcoin-payment-2021-07-26/',\n",
            "  'title': 'Amazon denies report of accepting Bitcoin as payment',\n",
            "  'votes': 126},\n",
            " {'link': 'https://cloud.google.com/blog/topics/inside-google-cloud/google-cloud-launches-a-career-program-for-people-with-autism',\n",
            "  'title': 'Strengthening our workplace with neurodiverse talent',\n",
            "  'votes': 120},\n",
            " {'link': 'https://yurideigin.medium.com/jaccuse-why-122-year-longevity-record-may-be-fake-af87fc0c3133',\n",
            "  'title': 'Jeanne Calment’s 122-year old longevity record may be fake (2018)',\n",
            "  'votes': 109},\n",
            " {'link': 'https://ramblemaps.com/worlds-most-detailed-maps',\n",
            "  'title': \"Making The World's Most Detailed Print Maps\",\n",
            "  'votes': 104},\n",
            " {'link': 'https://blogs.sciencemag.org/pipeline/archives/2021/07/23/more-protein-folding-progress-whats-it-mean',\n",
            "  'title': 'More Protein Folding Progress – What’s It Mean?',\n",
            "  'votes': 103}]\n"
          ],
          "name": "stdout"
        }
      ]
    }
  ]
}